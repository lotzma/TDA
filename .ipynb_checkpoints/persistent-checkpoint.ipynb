{
 "cells": [
  {
   "cell_type": "markdown",
   "metadata": {},
   "source": [
    "# Topological data analysis and dimensionality reduction"
   ]
  },
  {
   "cell_type": "markdown",
   "metadata": {},
   "source": [
    "---\n",
    "## Overview of literature\n",
    "---"
   ]
  },
  {
   "cell_type": "markdown",
   "metadata": {},
   "source": [
    "### Theory and surveys"
   ]
  },
  {
   "cell_type": "markdown",
   "metadata": {},
   "source": [
    "* Edelsbrunner and Harer, [Computational Topology - An Introduction](docs/Edels_Book.pdf)\n",
    "* Edelsbrunner and Harer, [Persistent Homology - a Survey](docs/PersistentHomology-Edelsbrunner-Harer.pdf)\n",
    "* Edelsbrunner and Morozov, [Persistent Homology: Theory and Practice](docs/morozov-persistent-homology-theory-practice-ecm.pdf)\n",
    "* Ghrist, [Barcodes: The Persistent Topology of Data](docs/barcodes.pdf)\n",
    "* Carlsson, [Topology and Data](docs/carlsson-bams.pdf), BAMS\n",
    "* Carlsson, [Topological pattern recognition for point cloud data](docs/gunnar-acta.pdf)\n",
    "* Snasel, Nowakova, Xhafa and Barolli, [Geometrical and topological approaches to Big Data](docs/geometric-and-topolica-big-data.pdf)\n",
    "* Vejdemo-Johansson, [Sketches of a Platypus: A Survey of Persistent Homology and its Algebraic Foundations](docs/sketches.pdf)\n",
    "* Tierny, [Introduction to Topological Data Analysis](docs/topologicalDataAnalysis.pdf)\n",
    "* Lum, Singh, Lehman, Ishkanov, Vejdemo-Johansson, Alagappan, Carlsson and Carlsson, [Extracting insights from the shape of complex data using topology](docs/VejdemoJohansson_2013_SR_Extracting.pdf)\n",
    "* Chazal, de Silva, Glisse, Oudot, [The Structure and Stability of Persistence Modules](docs/persistence-modules.pdf)\n",
    "* Kerber, [Persistent Homology - State of the art and challenges](docs/)\n",
    "* Stovner, [On the Mapper Algorithm](docs/mapper.pdf)\n",
    "* Chazal, [High-dimensional Topological Data Analysis](docs/high-dim.pdf)"
   ]
  },
  {
   "cell_type": "markdown",
   "metadata": {},
   "source": [
    "### Related background material"
   ]
  },
  {
   "cell_type": "markdown",
   "metadata": {},
   "source": [
    "* Bjorner, [Topological Methods](docs/bjorner-topological-methods-1995.pdf)\n",
    "* Hatcher, [Algebraic Topology](docs/AT.pdf)"
   ]
  },
  {
   "cell_type": "markdown",
   "metadata": {},
   "source": [
    "### Original research papers - theory"
   ]
  },
  {
   "cell_type": "markdown",
   "metadata": {},
   "source": [
    "* Carlsson and Zomorodian, [The Theory of Multidimensional Persistence](docs/carlsson-zomorodian.pdf)\n",
    "* Zomorodian and Carlsson, [Computing Persistent Homology](docs/zomorodian-carlsson.pdf)\n",
    "* de Silva, Morozov and Vejdemo-Hohansson, [Dualities in Persistent (Co)homology](docs/4corners.pdf)\n",
    "* Burghelea and Dey, [Persistence for Circle Valued Maps](docs/circle-valued-maps.pdf)\n",
    "* Crawley-Boevey, [Decomposition of Pointwise Finite-dimensional Persistence Modules](docs/crawley-boevey1.pdf)\n",
    "* Chazal, Crawley-Boevey and de Silva, [The Observable STructure of Persistence Modules](docs/crawley-boevey2.pdf)\n",
    "* Carlsson, de Silva and Morozov, [Zigzag Persistent Homology and Real-valued Functions](docs/morozov-zigzags-socg09.pdf)\n",
    "* Cerri and Landi, [Hausdorff Stability of Persistence Spaces](docs/multi-persistence.pdf)\n",
    "* Robins and Turner, [PCA of Persistent Homology Rank Functions with case studies of Spatial Poitn Patterns, Sphere Packing and Colloids](docs/pca.pdf)\n",
    "* Cohen-Steiner, Edelsbrunner and Harer, [Stability of Persistence Diagrams](docs/stability-persistence.pdf)\n",
    "* Carlsson and de Silva, [Zigzag Persistence](docs/zig-zag.pdf)\n",
    "* Donald Sheehy, [The Persistent Homology of Distance Functions under Random Projection](docs/sheehy14persistence.pdf)\n",
    "* Chazal and Oudot, [Towards Persistence-Based Reconstruction in Euclidean Spaces](docs/chazal-oudot.pdf)\n",
    "* Bauer, Kerber and Reininghaus, [Distributed Computation of Persistent Homology](docs/distributed.pdf)\n",
    "* Kerber and Raghvendra, [Approximation and Streaming Algorithms for Projective Clustering via Random Projections](docs/kerber-streaming.pdf)"
   ]
  },
  {
   "cell_type": "markdown",
   "metadata": {},
   "source": [
    "### Original research papers - applications"
   ]
  },
  {
   "cell_type": "markdown",
   "metadata": {},
   "source": [
    "* Otter, Porter, Tillmann, Grindrod and Harrington, [A Roadmap for the Computation of Persistent Homology](docs/persthomologyroadmap.pdf)\n",
    "* de Silva and Ghrist, [Coverage in Sensor Networks via Persistent Homology](docs/sensor-network.pdf)\n",
    "* Chazal, Fasy, Lecci, Michel, Rinaldo and Wasserman, [Subsampling Methods for Persistent Homology](docs/subsampling.pdf)\n",
    "* Nicolau, Levine and Carlsson, [Topology based data analysis identifies a subgroup of breast cancers with a unique mutational profile and excellent survival](docs/stability-persistence.pdf)\n",
    "* Taylor, Klimm, Harrington, Kramar, Mischaikow, Porter and Mucha, [Topological data analysis of contagion maps for examining spreading processes on networks](docs/topology-networks.pdf)\n",
    "* Lockwood and Krishnamoorthy, [Topological Features in cancer Gene Expression Data](docs/topology-of-cancer.pdf)\n",
    "* Chazal, Guibas, Oudot and Skraba, [Persistence-Based Clustering in Riemannian Manifolds](docs/persistence-based-clustering.pdf)\n",
    "* Mamuye, Rucco, Tesei and Merelli, [Persistent Homology Analysis of RNA](docs/Persistent Homology Analysis of RNA.pdf)"
   ]
  },
  {
   "cell_type": "markdown",
   "metadata": {},
   "source": [
    "### Other - research descriptions"
   ]
  },
  {
   "cell_type": "markdown",
   "metadata": {},
   "source": [
    "* Bak and Morozov, [Generalized Persistence and Applications](docs/persistencerep.pdf)"
   ]
  },
  {
   "cell_type": "markdown",
   "metadata": {},
   "source": [
    "### Slides"
   ]
  },
  {
   "cell_type": "markdown",
   "metadata": {},
   "source": [
    "* Morozov, [A Practical Guide to Persistent Homology](docs/dionysus-slides.pdf)\n",
    "* Guillemard, [Dimensionality Reduction and Persistent Homology in Signal Analysis](docs/lAquilaMG.pdf)\n",
    "* Lockwood, [Topology and Data](docs/Slides_Topology.pdf)\n",
    "* Chazal, [Covers and nerves](docs/NerveUnionofBalls.pdf), [Homology and Homology Inference](docs/Homologyinference.pdf), [Presence of Noise and Outliers](docs/DTM.pdf), [Persistent Homology in TDA](docs/PersistenceForTDA.pdf)"
   ]
  },
  {
   "cell_type": "markdown",
   "metadata": {},
   "source": [
    "### Websites"
   ]
  },
  {
   "cell_type": "markdown",
   "metadata": {},
   "source": [
    "* [Center for Topology of Cancer Evolution and Heterogeneity](https://psoc.c2b2.columbia.edu/), Columbia University\n",
    "* [List of software for persistent homology](https://people.maths.ox.ac.uk/otter/PH_programs), Nina Otter, Oxford\n",
    "* [Geometry Understanding in Higher Dimensions 2016](https://project.inria.fr/gudhi/gudhi-workshop-2016/)"
   ]
  },
  {
   "cell_type": "markdown",
   "metadata": {},
   "source": [
    "### Software"
   ]
  },
  {
   "cell_type": "markdown",
   "metadata": {},
   "source": [
    "* Fasy, Kim, Lecci, Maria, Rouvreau, [Introduction to the R package TDA](docs/TDA-R.pdf)"
   ]
  },
  {
   "cell_type": "markdown",
   "metadata": {},
   "source": [
    "### Dimensionality reduction / sketching / randomized linear algebra"
   ]
  },
  {
   "cell_type": "markdown",
   "metadata": {},
   "source": [
    "* Gower and Richtarik, [Randomized Iterative Methods for Linear Systems](https://arxiv.org/abs/1506.03296)\n",
    "* Gower and Richtarik, [Randomized quasi-Newton updates are linearly convergent matrix inversion algorithms](http://www.di.ens.fr/~rgower/pdf/inverse_stochastic)\n",
    "* Halko, Martinsson and Tropp, [Finding Structure with Randomness: Probabilistic Algorithms for Constructing Approximate Matrix Decompositions](http://epubs.siam.org/doi/abs/10.1137/090771806)\n",
    "* Espinola and Khamsi, [Introduction to Hyperconvex Spaces](docs/hyperconvex.pdf)\n",
    "* J.R. Isbell, [Six theorems on injective metric spaces](docs/isbell-tight-span.pdf)\n",
    "* Develin and Sturmfels, [Tropical Convexity](docs/tropical-convexity.pdf)\n",
    "* Oymak, Recht, Soltanolkotabi, [Isometric sketching of any set via the\n",
    "Restricted Isometry Property](docs/oymak.pdf)\n",
    "* Sjoerd Dirksen, [Dimensionality Reduction with Subgaussian Matrices:\n",
    "A Unified Theory](docs/dirksen.pdf)\n",
    "* Larsen and Nelson, [The Johnson-Lindenstrauss lemma is optimal for linear\n",
    "dimensionality reduction](docs/jl-optimal.pdf)\n",
    "* Afonso Bandeira, [Johnson-Lindenstrauss Lemma and Gordon's Theorem](docs/bandeira-notes.pdf)\n",
    "* Amelunxen and Lotz, [Gordon's Theorem](docs/gordcond.pdf)\n",
    "* Rachel Ward, [Dimensionality reduction](docs/ward.pdf)\n",
    "* Rachel Ward, [Near equivalence of Johnson-Lindenstrauss and RIP](docs/ward1.pdf)\n",
    "* Jelani Nelson, [Notes 1](docs/nelson-notes-1.pdf), [Notes 2](docs/nelson-notes-2.pdf), [Notes 3](docs/nelson-notes-3.pdf)"
   ]
  },
  {
   "cell_type": "markdown",
   "metadata": {},
   "source": [
    "# Algebraic Topology Cheat Sheat"
   ]
  },
  {
   "cell_type": "markdown",
   "metadata": {},
   "source": [
    "### Review most of the important notions here"
   ]
  },
  {
   "cell_type": "markdown",
   "metadata": {},
   "source": [
    "* General topology, bases, components, separation axioms, quotient topologies\n",
    "* Homeomorphisms, deformation retract, mapping cylinder, homotopy\n",
    "* Homological algebra, categorical language"
   ]
  }
 ],
 "metadata": {
  "anaconda-cloud": {},
  "kernelspec": {
   "display_name": "Python [conda root]",
   "language": "python",
   "name": "conda-root-py"
  },
  "language_info": {
   "codemirror_mode": {
    "name": "ipython",
    "version": 2
   },
   "file_extension": ".py",
   "mimetype": "text/x-python",
   "name": "python",
   "nbconvert_exporter": "python",
   "pygments_lexer": "ipython2",
   "version": "2.7.12"
  }
 },
 "nbformat": 4,
 "nbformat_minor": 1
}
