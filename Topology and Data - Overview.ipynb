{
 "cells": [
  {
   "cell_type": "markdown",
   "metadata": {},
   "source": [
    "***\n",
    "# Topological data analysis\n",
    "***"
   ]
  },
  {
   "cell_type": "markdown",
   "metadata": {},
   "source": [
    "### Theory and surveys"
   ]
  },
  {
   "cell_type": "markdown",
   "metadata": {},
   "source": [
    "* Edelsbrunner and Harer, [Computational Topology - An Introduction](./docs/Edels_Book.pdf)\n",
    "* Edelsbrunner and Harer, [Persistent Homology - a Survey](./docs/PersistentHomology-Edelsbrunner-Harer.pdf)\n",
    "* Edelsbrunner and Morozov, [Persistent Homology: Theory and Practice](./docs/morozov-persistent-homology-theory-practice-ecm.pdf)\n",
    "* Ghrist, [Barcodes: The Persistent Topology of Data](./docs/barcodes.pdf)\n",
    "* Carlsson, [Topology and Data](docs/carlsson-bams.pdf), BAMS\n",
    "* Carlsson, [Topological pattern recognition for poitn cloud data](docs/gunnar-acta.pdf)\n",
    "* Snasel, Nowakova, Xhafa and Barolli, [Geometrical and topological approaches to Big Data](docs/geometric-and-topolica-big-data.pdf)\n",
    "* Vejdemo-Johansson, [Sketches of a Platypus: A Survey of Persistent Homology and its Algebraic Foundations](docs/sketches.pdf)\n",
    "* Tierny, [Introduction to Topological Data Analysis](docs/topologicalDataAnalysis.pdf)\n",
    "* Lum, Singh, Lehman, Ishkanov, Vejdemo-Johansson, Alagappan, Carlsson and Carlsson, [Extracting insights from the shape of complex data using topology](docs/VejdemoJohansson_2013_SR_Extracting.pdf)"
   ]
  },
  {
   "cell_type": "markdown",
   "metadata": {},
   "source": [
    "### Related background material on algebraic topology"
   ]
  },
  {
   "cell_type": "markdown",
   "metadata": {},
   "source": [
    "* Bjorner, [Topological Methods](docs/bjorner-topological-methods-1995.pdf)\n",
    "* Hatcher, [Algebraic Topology](docs/AT.pdf)"
   ]
  },
  {
   "cell_type": "markdown",
   "metadata": {},
   "source": [
    "### Original research papers - theory"
   ]
  },
  {
   "cell_type": "markdown",
   "metadata": {},
   "source": [
    "* Carlsson and Zomorodian, [The Theory of Multidimensional Persistence](docs/carlsson-zomorodian.pdf)\n",
    "* Zomorodian and Carlsson, [Computing Persistent Homology](docs/zomorodian-carlsson.pdf)\n",
    "* de Silva, Morozov and Vejdemo-Hohansson, [Dualities in Persistent (Co)homology](docs/4corners.pdf)\n",
    "* Burghelea and Dey, [Persistence for Circle Valued Maps](docs/circle-valued-maps.pdf)\n",
    "* Crawley-Boevey, [Decomposition of Pointwise Finite-dimensional Persistence Modules](docs/crawley-boevey1.pdf)\n",
    "* Chazal, Crawley-Boevey and de Silva, [The Observable STructure of Persistence Modules](docs/crawley-boevey2.pdf)\n",
    "* Carlsson, de Silva and Morozov, [Zigzag Persistent Homology and Real-valued Functions](docs/morozov-zigzags-socg09.pdf)\n",
    "* Cerri and Landi, [Hausdorff Stability of Persistence Spaces](docs/multi-persistence.pdf)\n",
    "* Robins and Turner, [PCA of Persistent Homology Rank Functions with case studies of Spatial Poitn Patterns, Sphere Packing and Colloids](docs/pca.pdf)\n",
    "* Cohen-Steiner, Edelsbrunner and Harer, [Stability of Persistence Diagrams](docs/stability-persistence.pdf)\n",
    "* Carlsson and de Silva, [Zigzag Persistence](docs/zig-zag.pdf)\n",
    "* Donald Sheehy, [The Persistent Homology of Distance Functions under Random Projection](docs/sheehy14persistent.pdf)"
   ]
  },
  {
   "cell_type": "markdown",
   "metadata": {},
   "source": [
    "### Original research papers - applications"
   ]
  },
  {
   "cell_type": "markdown",
   "metadata": {},
   "source": [
    "* Otter, Porter, Tillmann, Grindrod and Harrington, [A Roadmap for the Computation of Persistent Homology](docs/persthomologyroadmap.pdf)\n",
    "* de Silva and Ghrist, [Coverage in Sensor Networks via Persistent Homology](docs/sensor-network.pdf)\n",
    "* Chazal, Fasy, Lecci, Michel, Rinaldo and Wasserman, [Subsampling Methods for Persistent Homology](docs/subsampling.pdf)\n",
    "* Nicolau, Levine and Carlsson, [Topology based data analysis identifies a subgroup of breast cancers with a unique mutational profile and excellent survival](docs/stability-persistence.pdf)\n",
    "* Taylor, Klimm, Harrington, Kramar, Mischaikow, Porter and Mucha, [Topological data analysis of contagion maps for examining spreading processes on networks](docs/topology-networks.pdf)\n",
    "* Lockwood and Krishnamoorthy, [Topological Features in cancer Gene Expression Data](docs/topology-of-cancer.pdf)"
   ]
  },
  {
   "cell_type": "markdown",
   "metadata": {},
   "source": [
    "### Other - research descriptions"
   ]
  },
  {
   "cell_type": "markdown",
   "metadata": {},
   "source": [
    "* Bak and Morozov, [Generalized Persistence and Applications](docs/persistencerep.pdf)"
   ]
  },
  {
   "cell_type": "markdown",
   "metadata": {},
   "source": [
    "### Slides"
   ]
  },
  {
   "cell_type": "markdown",
   "metadata": {},
   "source": [
    "* Morozov, [A Practical Guide to Persistent Homology](docs/dionysus-slides.pdf)\n",
    "* Guillemard, [Dimensionality Reduction and Persistent Homology in Signal Analysis](docs/lAquilaMG.pdf)\n",
    "* Lockwood, [Topology and Data](docs/Slides_Topology.pdf)"
   ]
  },
  {
   "cell_type": "markdown",
   "metadata": {},
   "source": [
    "### Websites"
   ]
  },
  {
   "cell_type": "markdown",
   "metadata": {},
   "source": [
    "* [Center for Topology of Cancer Evolution and Heterogeneity](https://psoc.c2b2.columbia.edu/), Columbia University\n",
    "* [List of software for persistent homology](https://people.maths.ox.ac.uk/otter/PH_programs), Nina Otter, Oxford\n",
    "* [Geometry Understanding in Higher Dimensions 2016](https://project.inria.fr/gudhi/gudhi-workshop-2016/)"
   ]
  },
  {
   "cell_type": "markdown",
   "metadata": {},
   "source": [
    "### Software"
   ]
  },
  {
   "cell_type": "markdown",
   "metadata": {},
   "source": [
    "* [List of software for persistent homology](https://people.maths.ox.ac.uk/otter/PH_programs), Nina Otter, Oxford"
   ]
  },
  {
   "cell_type": "markdown",
   "metadata": {},
   "source": [
    "### Dimensionality reduction / sketching / randomized linear algebra"
   ]
  },
  {
   "cell_type": "markdown",
   "metadata": {},
   "source": [
    "* Gower and Richtarik, [Randomized Iterative Methods for Linear Systems](https://arxiv.org/abs/1506.03296)\n",
    "* Gower and Richtarik, [Randomized quasi-Newton updates are linearly convergent matrix inversion algorithms](http://www.di.ens.fr/~rgower/pdf/inverse_stochastic)\n",
    "* Halko, Martinsson and Tropp, [Finding Structure with Randomness: Probabilistic Algorithms for Constructing Approximate Matrix Decompositions](http://epubs.siam.org/doi/abs/10.1137/090771806)\n",
    "* Add more on: projections of manifolds, Johnson-Lindenstrauss"
   ]
  }
 ],
 "metadata": {
  "anaconda-cloud": {},
  "kernelspec": {
   "display_name": "Python [conda root]",
   "language": "python",
   "name": "conda-root-py"
  },
  "language_info": {
   "codemirror_mode": {
    "name": "ipython",
    "version": 2
   },
   "file_extension": ".py",
   "mimetype": "text/x-python",
   "name": "python",
   "nbconvert_exporter": "python",
   "pygments_lexer": "ipython2",
   "version": "2.7.12"
  }
 },
 "nbformat": 4,
 "nbformat_minor": 1
}
